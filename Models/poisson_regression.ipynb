{
 "cells": [
  {
   "cell_type": "markdown",
   "metadata": {},
   "source": [
    "Poisson Regression"
   ]
  },
  {
   "cell_type": "markdown",
   "metadata": {},
   "source": [
    "Purpose: Count data, assuming the variable Y has a Poisson Distribution"
   ]
  },
  {
   "cell_type": "code",
   "execution_count": 6,
   "metadata": {},
   "outputs": [],
   "source": [
    "import numpy as np\n",
    "import pandas as pd\n",
    "import matplotlib.pyplot as plt\n",
    "import seaborn as sns\n",
    "from scipy.optimize import minimize\n",
    "from scipy.special import factorial\n",
    "from sklearn.preprocessing import MinMaxScaler"
   ]
  },
  {
   "cell_type": "code",
   "execution_count": 9,
   "metadata": {},
   "outputs": [
    {
     "name": "stderr",
     "output_type": "stream",
     "text": [
      "C:\\Users\\scarl\\AppData\\Local\\Temp\\ipykernel_1548\\4291891446.py:7: DtypeWarning: Columns (0) have mixed types. Specify dtype option on import or set low_memory=False.\n",
      "  test=pd.read_csv(file_test, header=None)\n"
     ]
    },
    {
     "name": "stdout",
     "output_type": "stream",
     "text": [
      "False\n",
      "True\n",
      "False\n"
     ]
    },
    {
     "data": {
      "text/plain": [
       "(52397, 221)"
      ]
     },
     "execution_count": 9,
     "metadata": {},
     "output_type": "execute_result"
    }
   ],
   "source": [
    "#data train\n",
    "file_train=r'E:\\Project\\Data_Mining\\Blog_Prediction\\Data_mining_finals\\BlogFeedBack_Dataset\\Train\\blogData_train.csv'\n",
    "train=pd.read_csv(file_train, header=None)\n",
    "\n",
    "#data test\n",
    "file_test=r'E:\\Project\\Data_Mining\\Blog_Prediction\\Data_mining_finals\\BlogFeedBack_Dataset\\Test\\blogData_test.csv'\n",
    "test=pd.read_csv(file_test, header=None)\n",
    "\n",
    "train = train.drop(train.columns[:50], axis=1).drop(train.columns[55:60], axis=1).drop(train.columns[276:280], axis=1)  # Drop the first 50 columns\n",
    "test = test.drop(test.columns[:50], axis=1).drop(test.columns[55:60], axis=1).drop(test.columns[276:280], axis=1)  # Drop the first 50 columns\n",
    "\n",
    "print(train.isnull().values.any())\n",
    "print(test.isnull().values.any())\n",
    "test.fillna(value=0, inplace=True)\n",
    "print(test.isnull().values.any())\n",
    "# Split features and labels\n",
    "X_train = train.iloc[:, :-1]\n",
    "y_train = train.iloc[:, -1]\n",
    "X_test = test.iloc[:, :-1]\n",
    "y_test = test.iloc[:, -1]\n",
    "X_test.shape\n",
    "\n",
    "scaler = MinMaxScaler()\n",
    "scaler.fit(X_train)\n",
    "X_train = scaler.transform(X_train)\n",
    "X_test = scaler.transform(X_test)\n",
    "X_train.shape"
   ]
  },
  {
   "cell_type": "code",
   "execution_count": 10,
   "metadata": {},
   "outputs": [],
   "source": [
    "from sklearn.linear_model import PoissonRegressor\n",
    "model = PoissonRegressor(alpha=0.3, max_iter=10)"
   ]
  },
  {
   "cell_type": "code",
   "execution_count": 12,
   "metadata": {},
   "outputs": [
    {
     "name": "stdout",
     "output_type": "stream",
     "text": [
      "[ 6.97057077  1.97877948 18.08916764 ...  5.42279541  6.14583127\n",
      "  7.75687974]\n",
      "Poisson Regression MSE:  849.9456293050532\n",
      "Poisson Regression MAE:  8.439520082968926\n"
     ]
    },
    {
     "name": "stderr",
     "output_type": "stream",
     "text": [
      "c:\\Users\\scarl\\anaconda3\\envs\\tensorflow\\Lib\\site-packages\\sklearn\\linear_model\\_glm\\glm.py:282: ConvergenceWarning: lbfgs failed to converge (status=1):\n",
      "STOP: TOTAL NO. of ITERATIONS REACHED LIMIT.\n",
      "\n",
      "Increase the number of iterations (max_iter) or scale the data as shown in:\n",
      "    https://scikit-learn.org/stable/modules/preprocessing.html\n",
      "  self.n_iter_ = _check_optimize_result(\"lbfgs\", opt_res)\n"
     ]
    }
   ],
   "source": [
    "model.fit(X_train, y_train)\n",
    "y_pred = model.predict(X_test)\n",
    "print(y_pred)\n",
    "\n",
    "from sklearn.metrics import mean_squared_error, mean_absolute_error\n",
    "print(\"Poisson Regression MSE: \", mean_squared_error(y_test, y_pred))\n",
    "print(\"Poisson Regression MAE: \", mean_absolute_error(y_test, y_pred))"
   ]
  },
  {
   "cell_type": "code",
   "execution_count": 14,
   "metadata": {},
   "outputs": [
    {
     "data": {
      "text/plain": [
       "['poisson_regression_model.joblib']"
      ]
     },
     "execution_count": 14,
     "metadata": {},
     "output_type": "execute_result"
    }
   ],
   "source": [
    "import joblib\n",
    "\n",
    "joblib.dump(model, 'poisson_regression_model.joblib')"
   ]
  },
  {
   "cell_type": "code",
   "execution_count": null,
   "metadata": {},
   "outputs": [],
   "source": []
  }
 ],
 "metadata": {
  "kernelspec": {
   "display_name": "Python 3",
   "language": "python",
   "name": "python3"
  },
  "language_info": {
   "codemirror_mode": {
    "name": "ipython",
    "version": 3
   },
   "file_extension": ".py",
   "mimetype": "text/x-python",
   "name": "python",
   "nbconvert_exporter": "python",
   "pygments_lexer": "ipython3",
   "version": "3.11.8"
  }
 },
 "nbformat": 4,
 "nbformat_minor": 2
}
