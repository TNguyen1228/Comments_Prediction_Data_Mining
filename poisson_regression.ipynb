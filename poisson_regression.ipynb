{
 "cells": [
  {
   "cell_type": "markdown",
   "metadata": {},
   "source": [
    "Poisson Regression"
   ]
  },
  {
   "cell_type": "markdown",
   "metadata": {},
   "source": [
    "Purpose: Count data, assuming the variable Y has a Poisson Distribution"
   ]
  },
  {
   "cell_type": "code",
   "execution_count": 17,
   "metadata": {},
   "outputs": [],
   "source": [
    "import numpy as np\n",
    "import pandas as pd\n",
    "import matplotlib.pyplot as plt\n",
    "import seaborn as sns\n",
    "from scipy.optimize import minimize\n",
    "from scipy.special import factorial"
   ]
  },
  {
   "cell_type": "code",
   "execution_count": 18,
   "metadata": {},
   "outputs": [
    {
     "name": "stderr",
     "output_type": "stream",
     "text": [
      "C:\\Users\\scarl\\AppData\\Local\\Temp\\ipykernel_2512\\3327860895.py:7: DtypeWarning: Columns (0) have mixed types. Specify dtype option on import or set low_memory=False.\n",
      "  test=pd.read_csv(file_test, header=None)\n"
     ]
    }
   ],
   "source": [
    "#data train\n",
    "file_train='D:\\\\Project\\\\Data_Mining\\\\Finals_BlogCommentPrediction\\\\Train\\\\blogData_train.csv'\n",
    "train=pd.read_csv(file_train, header=None)\n",
    "\n",
    "#data test\n",
    "file_test='D:\\\\Project\\\\Data_Mining\\\\Finals_BlogCommentPrediction\\\\Test\\\\blogData_test.csv'\n",
    "test=pd.read_csv(file_test, header=None)\n",
    "\n",
    "train = train.drop(train.columns[:50], axis=1)  # Drop the first 50 columns\n",
    "test = test.drop(test.columns[:50], axis=1)  # Drop the first 50 columns\n",
    "\n",
    "# Split features and labels\n",
    "X_train = train.iloc[:, :-1]\n",
    "y_train = train.iloc[:, -1]\n",
    "X_test = test.iloc[:, :-1]\n",
    "y_test = test.iloc[:, -1]"
   ]
  },
  {
   "cell_type": "code",
   "execution_count": 19,
   "metadata": {},
   "outputs": [],
   "source": [
    "class PoissonRegression:\n",
    "    def __init__(self, learning_rate=0.01, max_iter=10000, tol=1e-7):\n",
    "        self.learning_rate = learning_rate\n",
    "        self.max_iter = max_iter\n",
    "        self.tol = tol\n",
    "        self.beta = None\n",
    "\n",
    "    def _log_likelihood(self, beta, X, y):\n",
    "        linear_pred = np.dot(X, beta)\n",
    "        lambda_ = np.exp(linear_pred)\n",
    "        logL = np.sum(y * linear_pred - lambda_ - np.log(factorial(y)))\n",
    "        return -logL  # We return the negative log-likelihood for minimization\n",
    "\n",
    "    def fit(self, X, y):\n",
    "        n_samples, n_features = X.shape\n",
    "        self.beta = np.zeros(n_features)\n",
    "        \n",
    "        # Using minimize function from scipy to find the optimal parameters\n",
    "        result = minimize(self._log_likelihood, self.beta, args=(X, y), method='BFGS', options={'disp': False})\n",
    "        self.beta = result.x\n",
    "        \n",
    "        return self\n",
    "    \n",
    "    def loss_function(self, w, X, y):\n",
    "        y_pred = np.exp(np.dot(X, w))\n",
    "        loss = ((y_pred - y) ** 2.0)\n",
    "        return loss.mean(axis=None)\n",
    "\n",
    "    def predict(self, X):\n",
    "        # Fill NaN values in X with the mean of each column\n",
    "        col_means = np.nanmean(X, axis=0)\n",
    "        X = np.where(np.isnan(X), col_means, X)\n",
    "        \n",
    "        linear_pred = np.dot(X, self.beta)\n",
    "        return np.exp(linear_pred)"
   ]
  },
  {
   "cell_type": "code",
   "execution_count": 20,
   "metadata": {},
   "outputs": [
    {
     "name": "stdout",
     "output_type": "stream",
     "text": [
      "NaN values in y_test before: 1\n",
      "NaN values in y_test after: 0\n",
      "0       4.0\n",
      "1       0.0\n",
      "2       1.0\n",
      "3       5.0\n",
      "4       0.0\n",
      "       ... \n",
      "7620    0.0\n",
      "7621    0.0\n",
      "7622    3.0\n",
      "7623    0.0\n",
      "7624    1.0\n",
      "Name: 280, Length: 7625, dtype: float64\n"
     ]
    }
   ],
   "source": [
    "# Print the sum of NaN values to confirm their presence\n",
    "print(\"NaN values in y_test before:\", y_test.isna().sum())\n",
    "\n",
    "# Replace NaN with 1\n",
    "y_test.fillna(1, inplace=True)\n",
    "\n",
    "# Verify the replacement\n",
    "print(\"NaN values in y_test after:\", y_test.isna().sum())\n",
    "\n",
    "print(y_test)"
   ]
  },
  {
   "cell_type": "code",
   "execution_count": 25,
   "metadata": {},
   "outputs": [
    {
     "name": "stderr",
     "output_type": "stream",
     "text": [
      "C:\\Users\\scarl\\AppData\\Roaming\\Python\\Python312\\site-packages\\scipy\\optimize\\_numdiff.py:590: RuntimeWarning: invalid value encountered in subtract\n",
      "  df = fun(x) - f0\n"
     ]
    },
    {
     "data": {
      "text/plain": [
       "array([1., 1., 1., ..., 1., 1., 1.])"
      ]
     },
     "execution_count": 25,
     "metadata": {},
     "output_type": "execute_result"
    }
   ],
   "source": [
    "model = PoissonRegression(max_iter=10, tol=0.3)\n",
    "model.fit(X_train, y_train)\n",
    "y_pred = model.predict(X_test)\n",
    "y_pred"
   ]
  },
  {
   "cell_type": "code",
   "execution_count": 26,
   "metadata": {},
   "outputs": [
    {
     "name": "stdout",
     "output_type": "stream",
     "text": [
      "Mean Squared Error: 948.9826885245901\n",
      "RMSE : 30.805562623081407\n"
     ]
    }
   ],
   "source": [
    "from sklearn.metrics import mean_squared_error, mean_absolute_error\n",
    "# Calculate MSE\n",
    "mse = mean_squared_error(y_test, y_pred)\n",
    "rmse = mse ** 0.5  # Root Mean Squared Error\n",
    "\n",
    "\n",
    "print(\"Mean Squared Error:\", mse)\n",
    "print(f'RMSE : {rmse}')"
   ]
  },
  {
   "cell_type": "code",
   "execution_count": 27,
   "metadata": {},
   "outputs": [
    {
     "name": "stdout",
     "output_type": "stream",
     "text": [
      "Mean Absolute Error (MAE): 5.746229508196722\n"
     ]
    }
   ],
   "source": [
    "mae = mean_absolute_error(y_test, y_pred)\n",
    "\n",
    "print(f'Mean Absolute Error (MAE): {mae}')"
   ]
  },
  {
   "cell_type": "code",
   "execution_count": 24,
   "metadata": {},
   "outputs": [
    {
     "data": {
      "text/plain": [
       "['poisson_regression.joblib']"
      ]
     },
     "execution_count": 24,
     "metadata": {},
     "output_type": "execute_result"
    }
   ],
   "source": [
    "import joblib\n",
    "\n",
    "joblib.dump(model, 'poisson_regression.joblib')"
   ]
  },
  {
   "cell_type": "code",
   "execution_count": null,
   "metadata": {},
   "outputs": [],
   "source": []
  }
 ],
 "metadata": {
  "kernelspec": {
   "display_name": "Python 3",
   "language": "python",
   "name": "python3"
  },
  "language_info": {
   "codemirror_mode": {
    "name": "ipython",
    "version": 3
   },
   "file_extension": ".py",
   "mimetype": "text/x-python",
   "name": "python",
   "nbconvert_exporter": "python",
   "pygments_lexer": "ipython3",
   "version": "3.12.3"
  }
 },
 "nbformat": 4,
 "nbformat_minor": 2
}
